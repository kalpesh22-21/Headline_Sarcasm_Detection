{
 "cells": [
  {
   "cell_type": "code",
   "execution_count": 1,
   "metadata": {},
   "outputs": [],
   "source": [
    "# Importing all the required libraries\n",
    "import pandas as pd\n",
    "import numpy as np\n",
    "import matplotlib.pyplot as plt\n",
    "%matplotlib inline\n",
    "import seaborn as sns\n",
    "import pickle\n",
    "from tensorflow import saved_model\n",
    "import re\n",
    "import tensorflow\n",
    "from nltk.corpus import stopwords\n",
    "from tensorflow.keras.utils import to_categorical\n",
    "from tensorflow.keras.preprocessing.text import Tokenizer\n",
    "from tensorflow.keras.preprocessing.sequence import pad_sequences\n",
    "from sklearn.model_selection import train_test_split\n",
    "from tensorflow.math import reduce_mean"
   ]
  },
  {
   "cell_type": "code",
   "execution_count": 2,
   "metadata": {},
   "outputs": [
    {
     "data": {
      "text/html": [
       "<div>\n",
       "<style scoped>\n",
       "    .dataframe tbody tr th:only-of-type {\n",
       "        vertical-align: middle;\n",
       "    }\n",
       "\n",
       "    .dataframe tbody tr th {\n",
       "        vertical-align: top;\n",
       "    }\n",
       "\n",
       "    .dataframe thead th {\n",
       "        text-align: right;\n",
       "    }\n",
       "</style>\n",
       "<table border=\"1\" class=\"dataframe\">\n",
       "  <thead>\n",
       "    <tr style=\"text-align: right;\">\n",
       "      <th></th>\n",
       "      <th>is_sarcastic</th>\n",
       "      <th>headline</th>\n",
       "      <th>article_link</th>\n",
       "    </tr>\n",
       "  </thead>\n",
       "  <tbody>\n",
       "    <tr>\n",
       "      <th>0</th>\n",
       "      <td>1</td>\n",
       "      <td>thirtysomething scientists unveil doomsday clo...</td>\n",
       "      <td>https://www.theonion.com/thirtysomething-scien...</td>\n",
       "    </tr>\n",
       "    <tr>\n",
       "      <th>1</th>\n",
       "      <td>0</td>\n",
       "      <td>dem rep. totally nails why congress is falling...</td>\n",
       "      <td>https://www.huffingtonpost.com/entry/donna-edw...</td>\n",
       "    </tr>\n",
       "    <tr>\n",
       "      <th>2</th>\n",
       "      <td>0</td>\n",
       "      <td>eat your veggies: 9 deliciously different recipes</td>\n",
       "      <td>https://www.huffingtonpost.com/entry/eat-your-...</td>\n",
       "    </tr>\n",
       "    <tr>\n",
       "      <th>3</th>\n",
       "      <td>1</td>\n",
       "      <td>inclement weather prevents liar from getting t...</td>\n",
       "      <td>https://local.theonion.com/inclement-weather-p...</td>\n",
       "    </tr>\n",
       "    <tr>\n",
       "      <th>4</th>\n",
       "      <td>1</td>\n",
       "      <td>mother comes pretty close to using word 'strea...</td>\n",
       "      <td>https://www.theonion.com/mother-comes-pretty-c...</td>\n",
       "    </tr>\n",
       "  </tbody>\n",
       "</table>\n",
       "</div>"
      ],
      "text/plain": [
       "   is_sarcastic                                           headline  \\\n",
       "0             1  thirtysomething scientists unveil doomsday clo...   \n",
       "1             0  dem rep. totally nails why congress is falling...   \n",
       "2             0  eat your veggies: 9 deliciously different recipes   \n",
       "3             1  inclement weather prevents liar from getting t...   \n",
       "4             1  mother comes pretty close to using word 'strea...   \n",
       "\n",
       "                                        article_link  \n",
       "0  https://www.theonion.com/thirtysomething-scien...  \n",
       "1  https://www.huffingtonpost.com/entry/donna-edw...  \n",
       "2  https://www.huffingtonpost.com/entry/eat-your-...  \n",
       "3  https://local.theonion.com/inclement-weather-p...  \n",
       "4  https://www.theonion.com/mother-comes-pretty-c...  "
      ]
     },
     "execution_count": 2,
     "metadata": {},
     "output_type": "execute_result"
    }
   ],
   "source": [
    "# Importing dataset\n",
    "data = pd.read_json('Sarcasm_Headlines_Dataset.json', lines=True)\n",
    "data.head(5)"
   ]
  },
  {
   "cell_type": "code",
   "execution_count": 3,
   "metadata": {},
   "outputs": [
    {
     "data": {
      "text/html": [
       "<div>\n",
       "<style scoped>\n",
       "    .dataframe tbody tr th:only-of-type {\n",
       "        vertical-align: middle;\n",
       "    }\n",
       "\n",
       "    .dataframe tbody tr th {\n",
       "        vertical-align: top;\n",
       "    }\n",
       "\n",
       "    .dataframe thead th {\n",
       "        text-align: right;\n",
       "    }\n",
       "</style>\n",
       "<table border=\"1\" class=\"dataframe\">\n",
       "  <thead>\n",
       "    <tr style=\"text-align: right;\">\n",
       "      <th></th>\n",
       "      <th>is_sarcastic</th>\n",
       "      <th>headline</th>\n",
       "    </tr>\n",
       "  </thead>\n",
       "  <tbody>\n",
       "    <tr>\n",
       "      <th>0</th>\n",
       "      <td>1</td>\n",
       "      <td>thirtysomething scientists unveil doomsday clo...</td>\n",
       "    </tr>\n",
       "    <tr>\n",
       "      <th>1</th>\n",
       "      <td>0</td>\n",
       "      <td>dem rep. totally nails why congress is falling...</td>\n",
       "    </tr>\n",
       "    <tr>\n",
       "      <th>2</th>\n",
       "      <td>0</td>\n",
       "      <td>eat your veggies: 9 deliciously different recipes</td>\n",
       "    </tr>\n",
       "    <tr>\n",
       "      <th>3</th>\n",
       "      <td>1</td>\n",
       "      <td>inclement weather prevents liar from getting t...</td>\n",
       "    </tr>\n",
       "    <tr>\n",
       "      <th>4</th>\n",
       "      <td>1</td>\n",
       "      <td>mother comes pretty close to using word 'strea...</td>\n",
       "    </tr>\n",
       "  </tbody>\n",
       "</table>\n",
       "</div>"
      ],
      "text/plain": [
       "   is_sarcastic                                           headline\n",
       "0             1  thirtysomething scientists unveil doomsday clo...\n",
       "1             0  dem rep. totally nails why congress is falling...\n",
       "2             0  eat your veggies: 9 deliciously different recipes\n",
       "3             1  inclement weather prevents liar from getting t...\n",
       "4             1  mother comes pretty close to using word 'strea..."
      ]
     },
     "execution_count": 3,
     "metadata": {},
     "output_type": "execute_result"
    }
   ],
   "source": [
    "# Dropping the article link column\n",
    "data.drop(['article_link'],inplace = True,axis =1)\n",
    "data.head(5)"
   ]
  },
  {
   "cell_type": "code",
   "execution_count": 4,
   "metadata": {},
   "outputs": [
    {
     "name": "stderr",
     "output_type": "stream",
     "text": [
      "C:\\Users\\kalpe\\Anaconda3\\lib\\site-packages\\seaborn\\_decorators.py:36: FutureWarning: Pass the following variable as a keyword arg: x. From version 0.12, the only valid positional argument will be `data`, and passing other arguments without an explicit keyword will result in an error or misinterpretation.\n",
      "  warnings.warn(\n"
     ]
    },
    {
     "data": {
      "text/plain": [
       "<AxesSubplot:xlabel='is_sarcastic', ylabel='count'>"
      ]
     },
     "execution_count": 4,
     "metadata": {},
     "output_type": "execute_result"
    },
    {
     "data": {
      "image/png": "[encoded data removed]",
      "text/plain": [
       "<Figure size 432x288 with 1 Axes>"
      ]
     },
     "metadata": {
      "needs_background": "light"
     },
     "output_type": "display_data"
    }
   ],
   "source": [
    "# Class balance\n",
    "sns.countplot(data['is_sarcastic'])"
   ]
  },
  {
   "cell_type": "code",
   "execution_count": 5,
   "metadata": {},
   "outputs": [
    {
     "name": "stdout",
     "output_type": "stream",
     "text": [
      "Non Sarcastic : 52.360320067088296 %\n",
      "Sarcastic : 47.6396799329117 %\n"
     ]
    }
   ],
   "source": [
    "print('Non Sarcastic : {0} %'.format((data['is_sarcastic'].value_counts()[0]/(data['is_sarcastic'].value_counts()[0] + data['is_sarcastic'].value_counts()[1] ))* 100))\n",
    "print('Sarcastic : {0} %'.format((data['is_sarcastic'].value_counts()[1]/(data['is_sarcastic'].value_counts()[0] + data['is_sarcastic'].value_counts()[1] ))* 100))"
   ]
  },
  {
   "cell_type": "code",
   "execution_count": 6,
   "metadata": {},
   "outputs": [],
   "source": [
    "def f_word_cloud(column):\n",
    "    \n",
    "    comment_words = ' '\n",
    "    stopwords = set(STOPWORDS)\n",
    "\n",
    "    # iterate through the csv file \n",
    "    for val in column: \n",
    "\n",
    "        # typecaste each val to string \n",
    "        val = str(val) \n",
    "\n",
    "        # split the value \n",
    "        tokens = val.split() \n",
    "\n",
    "        # Converts each token into lowercase \n",
    "        for i in range(len(tokens)):\n",
    "            tokens[i] = tokens[i].lower() \n",
    "\n",
    "        for words in tokens: \n",
    "            comment_words = comment_words + words + ' '\n",
    "\n",
    "\n",
    "    wordcloud = WordCloud(width = 800, height = 800, \n",
    "                    background_color ='white', \n",
    "                    min_font_size = 10).generate(comment_words) \n",
    "    \n",
    "    return wordcloud\n"
   ]
  },
  {
   "cell_type": "markdown",
   "metadata": {},
   "source": [
    "The non sarcastic class is more than sarcastic class. But there is acceptable class imbalance."
   ]
  },
  {
   "cell_type": "code",
   "execution_count": 7,
   "metadata": {},
   "outputs": [
    {
     "name": "stdout",
     "output_type": "stream",
     "text": [
      "eat your veggies: 9 deliciously different recipes\n",
      "Length of the sentence is : 7\n",
      "Maximum Length of a headline in data set is : 151\n"
     ]
    }
   ],
   "source": [
    "# length of the sentence\n",
    "print(data['headline'][2])\n",
    "print('Length of the sentence is : {0}'.format(len(data['headline'][2].split(' '))))\n",
    "\n",
    "max_length = 0\n",
    "for i in range(data.shape[0]):\n",
    "    temp = len(data['headline'][i].split(' '))\n",
    "    if temp > max_length:\n",
    "        max_length = temp\n",
    "print('Maximum Length of a headline in data set is : {0}'.format(max_length))"
   ]
  },
  {
   "cell_type": "code",
   "execution_count": 8,
   "metadata": {},
   "outputs": [
    {
     "name": "stdout",
     "output_type": "stream",
     "text": [
      "hot wheels ranked number one toy for rolling down ramp, knocking over dominoes that send marble down a funnel, dropping onto teeter-totter that yanks on string, causing pulley system to raise wooden block, propelling series of twine rollers that unwind spring, launching tennis ball across room, inching tire down slope until it hits power switch, activating table fan that blows toy ship with nail attached to it across kiddie pool, popping water balloon that fills cup, weighing down lever that forces basketball down track, nudging broomstick on axis to rotate, allowing golf ball to roll into sideways coffee mug, which tumbles down row of hardcover books until handle catches hook attached to lever that causes wooden mallet to slam down on serving spoon, catapulting small ball into cup attached by ribbon to lazy susan, which spins until it pushes d battery down incline plane, tipping over salt shaker to season omelet\n"
     ]
    }
   ],
   "source": [
    "print(data['headline'][7302])"
   ]
  },
  {
   "cell_type": "code",
   "execution_count": 9,
   "metadata": {},
   "outputs": [],
   "source": [
    "# # Removing all alpha_numeric characters\n",
    "# Temp = []\n",
    "# for i in range(data.shape[0]):\n",
    "#     Temp.append(re.sub(r'[^a-zA-Z_\\s]+','',data['headline'][i]))\n",
    "# data['cleaned_headline'] = Temp"
   ]
  },
  {
   "cell_type": "code",
   "execution_count": 10,
   "metadata": {},
   "outputs": [],
   "source": [
    "def format_data(text):\n",
    "    text = re.sub(r'[^a-zA-Z0-9_\\s]+','',text)\n",
    "#     text = ' '.join([w for w in text.split() if w not in stopwords.words('english')])\n",
    "    return(text)\n",
    "data['cleaned_headline'] = data['headline'].apply(format_data)"
   ]
  },
  {
   "cell_type": "code",
   "execution_count": 11,
   "metadata": {},
   "outputs": [
    {
     "name": "stdout",
     "output_type": "stream",
     "text": [
      "Before: thirtysomething scientists unveil doomsday clock of hair loss\n",
      "After : thirtysomething scientists unveil doomsday clock of hair loss\n",
      "\t\n",
      "Before: dem rep. totally nails why congress is falling short on gender, racial equality\n",
      "After : dem rep totally nails why congress is falling short on gender racial equality\n",
      "\t\n",
      "Before: eat your veggies: 9 deliciously different recipes\n",
      "After : eat your veggies 9 deliciously different recipes\n",
      "\t\n",
      "Before: inclement weather prevents liar from getting to work\n",
      "After : inclement weather prevents liar from getting to work\n",
      "\t\n",
      "Before: mother comes pretty close to using word 'streaming' correctly\n",
      "After : mother comes pretty close to using word streaming correctly\n",
      "\t\n"
     ]
    }
   ],
   "source": [
    "# After removing alpha numeric characters\n",
    "for i in range(5):\n",
    "    print('Before: {0}'.format(data['headline'][i]))\n",
    "    print('After : {0}'.format(data['cleaned_headline'][i]))\n",
    "    print('\\t')"
   ]
  },
  {
   "cell_type": "markdown",
   "metadata": {},
   "source": [
    "### Parmeters"
   ]
  },
  {
   "cell_type": "code",
   "execution_count": 12,
   "metadata": {},
   "outputs": [],
   "source": [
    "max_length_of_headline = 50\n",
    "num_words = 10000\n",
    "Embedding_dimension = 50\n",
    "lstm_out = 50"
   ]
  },
  {
   "cell_type": "markdown",
   "metadata": {},
   "source": [
    "### Train Test Split"
   ]
  },
  {
   "cell_type": "code",
   "execution_count": 13,
   "metadata": {},
   "outputs": [],
   "source": [
    "# Features\n",
    "X = data['cleaned_headline'].values\n",
    "\n",
    "# labels\n",
    "Y = data['is_sarcastic'].values\n",
    "Y = to_categorical(Y,num_classes=2)"
   ]
  },
  {
   "cell_type": "code",
   "execution_count": 14,
   "metadata": {},
   "outputs": [],
   "source": [
    "x_train,x_test,y_train,y_test = train_test_split(X,Y,test_size = 0.3,stratify = Y,random_state = 123)"
   ]
  },
  {
   "cell_type": "markdown",
   "metadata": {},
   "source": [
    "### Word Tokenizing and GLove Embedding"
   ]
  },
  {
   "cell_type": "code",
   "execution_count": 15,
   "metadata": {},
   "outputs": [],
   "source": [
    "# Tokenizing the text\n",
    "tokenizer = Tokenizer(num_words=num_words)\n",
    "tokenizer.fit_on_texts(x_train)\n",
    "\n",
    "filename = 'tokenizer.pickle'\n",
    "pickle.dump(tokenizer, open(filename, 'wb'), protocol=pickle.HIGHEST_PROTOCOL)"
   ]
  },
  {
   "cell_type": "code",
   "execution_count": 16,
   "metadata": {},
   "outputs": [],
   "source": [
    "# Word_index_vector \n",
    "words_to_index = tokenizer.word_index"
   ]
  },
  {
   "cell_type": "code",
   "execution_count": 17,
   "metadata": {},
   "outputs": [
    {
     "name": "stdout",
     "output_type": "stream",
     "text": [
      "The Vocabulary of the text is : 24809\n"
     ]
    }
   ],
   "source": [
    "Vocab_length = len(tokenizer.word_index)\n",
    "print('The Vocabulary of the text is : {0}'.format(Vocab_length))"
   ]
  },
  {
   "cell_type": "code",
   "execution_count": 18,
   "metadata": {},
   "outputs": [],
   "source": [
    "# Function for loading and reading GLove Embeddings\n",
    "def read_glove_vector(glove_vec):\n",
    "    with open(glove_vec, 'r', encoding='UTF-8') as f:\n",
    "        words = set()\n",
    "        word_to_vec_map = {}\n",
    "        for line in f:\n",
    "            w_line = line.split()\n",
    "            curr_word = w_line[0]\n",
    "            word_to_vec_map[curr_word] = np.array(w_line[1:], dtype=np.float64)\n",
    "    return word_to_vec_map"
   ]
  },
  {
   "cell_type": "code",
   "execution_count": 19,
   "metadata": {},
   "outputs": [],
   "source": [
    "# GLove Embedding vector\n",
    "word_to_glove_map = read_glove_vector('glove.6B.50d.txt')"
   ]
  },
  {
   "cell_type": "code",
   "execution_count": 20,
   "metadata": {},
   "outputs": [],
   "source": [
    "# Creating Embedding Matrix \n",
    "Emb_matrix = np.zeros((Vocab_length+1,Embedding_dimension))\n",
    "\n",
    "for word, index in words_to_index.items():\n",
    "    embedding_vector = word_to_glove_map.get(word)\n",
    "    if embedding_vector is not None:\n",
    "        Emb_matrix[index, :] = embedding_vector"
   ]
  },
  {
   "cell_type": "code",
   "execution_count": 21,
   "metadata": {},
   "outputs": [
    {
     "data": {
      "text/plain": [
       "array([[ 0.      ,  0.      ,  0.      , ...,  0.      ,  0.      ,\n",
       "         0.      ],\n",
       "       [ 0.68047 , -0.039263,  0.30186 , ..., -0.073297, -0.064699,\n",
       "        -0.26044 ],\n",
       "       [ 0.70853 ,  0.57088 , -0.4716  , ..., -0.22562 , -0.093918,\n",
       "        -0.80375 ],\n",
       "       ...,\n",
       "       [ 0.      ,  0.      ,  0.      , ...,  0.      ,  0.      ,\n",
       "         0.      ],\n",
       "       [ 0.51888 , -0.35872 ,  0.24872 , ...,  0.59534 , -0.17319 ,\n",
       "        -0.24333 ],\n",
       "       [-0.40886 ,  0.64601 , -0.44272 , ...,  0.32651 , -0.18354 ,\n",
       "         0.031975]])"
      ]
     },
     "execution_count": 21,
     "metadata": {},
     "output_type": "execute_result"
    }
   ],
   "source": [
    "Emb_matrix"
   ]
  },
  {
   "cell_type": "markdown",
   "metadata": {},
   "source": [
    "### Features and labels"
   ]
  },
  {
   "cell_type": "code",
   "execution_count": 43,
   "metadata": {},
   "outputs": [],
   "source": [
    "x_train = tokenizer.texts_to_sequences(x_train)\n",
    "x_test = tokenizer.texts_to_sequences(x_test)"
   ]
  },
  {
   "cell_type": "code",
   "execution_count": 124,
   "metadata": {},
   "outputs": [],
   "source": [
    "x_train = pad_sequences(x_train,maxlen=50,padding='post',value=0)\n",
    "x_test = pad_sequences(x_test,maxlen=50,padding='post',value=0)"
   ]
  },
  {
   "cell_type": "markdown",
   "metadata": {},
   "source": [
    "### Model"
   ]
  },
  {
   "cell_type": "code",
   "execution_count": 27,
   "metadata": {},
   "outputs": [],
   "source": [
    "# Building model\n",
    "from tensorflow.keras.models import Model\n",
    "from tensorflow.keras.layers import Dense, Embedding, LSTM, Dropout,Bidirectional,Input\n",
    "\n",
    "Input = Input(shape = (50,))\n",
    "embeding = Embedding(Vocab_length+1, Embedding_dimension, input_length= max_length_of_headline,weights = [Emb_matrix], trainable=True)(Input)\n",
    "dropout = Dropout(0.2)(embeding)\n",
    "lstm = Bidirectional(LSTM(lstm_out, recurrent_dropout=0.2))(dropout)\n",
    "hidden_dense = Dense(10,activation ='relu')(lstm)\n",
    "output = Dense(2,activation='softmax')(hidden_dense)\n",
    "\n",
    "model = Model(inputs = Input,outputs =output)"
   ]
  },
  {
   "cell_type": "code",
   "execution_count": 28,
   "metadata": {},
   "outputs": [
    {
     "name": "stdout",
     "output_type": "stream",
     "text": [
      "Model: \"model\"\n",
      "_________________________________________________________________\n",
      "Layer (type)                 Output Shape              Param #   \n",
      "=================================================================\n",
      "input_1 (InputLayer)         [(None, 50)]              0         \n",
      "_________________________________________________________________\n",
      "embedding (Embedding)        (None, 50, 50)            1240500   \n",
      "_________________________________________________________________\n",
      "dropout (Dropout)            (None, 50, 50)            0         \n",
      "_________________________________________________________________\n",
      "bidirectional (Bidirectional (None, 100)               40400     \n",
      "_________________________________________________________________\n",
      "dense (Dense)                (None, 10)                1010      \n",
      "_________________________________________________________________\n",
      "dense_1 (Dense)              (None, 2)                 22        \n",
      "=================================================================\n",
      "Total params: 1,281,932\n",
      "Trainable params: 1,281,932\n",
      "Non-trainable params: 0\n",
      "_________________________________________________________________\n"
     ]
    }
   ],
   "source": [
    "model.summary()"
   ]
  },
  {
   "cell_type": "code",
   "execution_count": 30,
   "metadata": {},
   "outputs": [],
   "source": [
    "# Optimizer\n",
    "Optimizer = tensorflow.keras.optimizers.Adam(learning_rate = 1e-4,beta_1 = 0.99,decay = 1e-5)\n",
    "\n",
    "# Compile Model\n",
    "model.compile(loss = 'categorical_crossentropy', optimizer=Optimizer,metrics = ['accuracy'])"
   ]
  },
  {
   "cell_type": "code",
   "execution_count": 31,
   "metadata": {},
   "outputs": [],
   "source": [
    "# Defining Callbacks\n",
    "EarlyStopping = tensorflow.keras.callbacks.EarlyStopping(monitor='val_accuracy',patience=4,min_delta = 0.01)\n",
    "\n",
    "ModelCheckpoint = tensorflow.keras.callbacks.ModelCheckpoint(\"Proj_2_model-{val_loss:.2f}.h5\",monitor='loss',save_best_only= True,save_weights_only=True)\n",
    "\n",
    "reduceLoss = tensorflow.keras.callbacks.ReduceLROnPlateau(monitor='val_loss', factor=0.01,patience=2, min_lr=0.00001)"
   ]
  },
  {
   "cell_type": "code",
   "execution_count": 129,
   "metadata": {
    "scrolled": true
   },
   "outputs": [
    {
     "name": "stdout",
     "output_type": "stream",
     "text": [
      "Epoch 1/20\n",
      "627/627 [==============================] - 32s 48ms/step - loss: 0.6662 - accuracy: 0.6047 - val_loss: 0.6234 - val_accuracy: 0.6783\n",
      "Epoch 2/20\n",
      "627/627 [==============================] - 30s 48ms/step - loss: 0.5759 - accuracy: 0.7074 - val_loss: 0.5252 - val_accuracy: 0.7449\n",
      "Epoch 3/20\n",
      "627/627 [==============================] - 33s 53ms/step - loss: 0.5077 - accuracy: 0.7498 - val_loss: 0.4742 - val_accuracy: 0.7764\n",
      "Epoch 4/20\n",
      "627/627 [==============================] - 31s 49ms/step - loss: 0.4616 - accuracy: 0.7814 - val_loss: 0.4368 - val_accuracy: 0.8010\n",
      "Epoch 5/20\n",
      "627/627 [==============================] - 29s 46ms/step - loss: 0.4297 - accuracy: 0.8024 - val_loss: 0.4117 - val_accuracy: 0.8178\n",
      "Epoch 6/20\n",
      "627/627 [==============================] - 28s 45ms/step - loss: 0.4121 - accuracy: 0.8133 - val_loss: 0.3936 - val_accuracy: 0.8261\n",
      "Epoch 7/20\n",
      "627/627 [==============================] - 29s 46ms/step - loss: 0.3857 - accuracy: 0.8262 - val_loss: 0.3789 - val_accuracy: 0.8348\n",
      "Epoch 8/20\n",
      "627/627 [==============================] - 28s 45ms/step - loss: 0.3679 - accuracy: 0.8360 - val_loss: 0.3705 - val_accuracy: 0.8385\n",
      "Epoch 9/20\n",
      "627/627 [==============================] - 31s 50ms/step - loss: 0.3547 - accuracy: 0.8438 - val_loss: 0.3589 - val_accuracy: 0.8447\n",
      "Epoch 10/20\n",
      "627/627 [==============================] - 33s 53ms/step - loss: 0.3420 - accuracy: 0.8510 - val_loss: 0.3505 - val_accuracy: 0.8482\n",
      "Epoch 11/20\n",
      "627/627 [==============================] - 36s 58ms/step - loss: 0.3274 - accuracy: 0.8582 - val_loss: 0.3463 - val_accuracy: 0.8492\n",
      "Epoch 12/20\n",
      "627/627 [==============================] - 34s 54ms/step - loss: 0.3203 - accuracy: 0.8613 - val_loss: 0.3384 - val_accuracy: 0.8530\n",
      "Epoch 13/20\n",
      "627/627 [==============================] - 33s 53ms/step - loss: 0.3087 - accuracy: 0.8667 - val_loss: 0.3417 - val_accuracy: 0.8523\n",
      "Epoch 14/20\n",
      "627/627 [==============================] - 30s 47ms/step - loss: 0.2987 - accuracy: 0.8708 - val_loss: 0.3346 - val_accuracy: 0.8569\n"
     ]
    },
    {
     "data": {
      "text/plain": [
       "<keras.callbacks.History at 0x1562300fa00>"
      ]
     },
     "execution_count": 129,
     "metadata": {},
     "output_type": "execute_result"
    }
   ],
   "source": [
    "model.fit(x_train, y_train, epochs = 20 , batch_size= 32,  validation_data=(x_test,y_test),callbacks = [EarlyStopping,reduceLoss,ModelCheckpoint])"
   ]
  },
  {
   "cell_type": "code",
   "execution_count": 32,
   "metadata": {},
   "outputs": [],
   "source": [
    "# Selecting the best model\n",
    "Final_model = Model(inputs = Input,outputs =output)\n",
    "Final_model.load_weights('Proj_2_model-0.33.h5')\n",
    "Final_model.compile(loss = 'categorical_crossentropy', optimizer=Optimizer,metrics = ['accuracy'])"
   ]
  },
  {
   "cell_type": "code",
   "execution_count": 51,
   "metadata": {},
   "outputs": [
    {
     "name": "stdout",
     "output_type": "stream",
     "text": [
      "269/269 - 2s - loss: 0.3279 - accuracy: 0.8576\n",
      "Loss on Test Data : 0.33\n",
      "Accuracy on test Data : 0.86\n"
     ]
    }
   ],
   "source": [
    "# Accuracy and Loss\n",
    "score,acc = Final_model.evaluate(x_test, y_test, verbose = 2, batch_size = 32)\n",
    "\n",
    "print(\"Loss on Test Data : %.2f\" % (score))\n",
    "print(\"Accuracy on test Data : %.2f\" % (acc))"
   ]
  },
  {
   "cell_type": "code",
   "execution_count": 131,
   "metadata": {},
   "outputs": [
    {
     "name": "stdout",
     "output_type": "stream",
     "text": [
      "Sentence : \"undecided debate viewer waiting until he hears same responses for seventh time before making decision\"\"\n",
      "Model Prediction : The headline is Sarcastic\n",
      "Truth Value      : The headline is Sarcastic\n",
      "Correct Prediction !!!\n"
     ]
    }
   ],
   "source": [
    "i = 11016\n",
    "# Test sentence\n",
    "Test_sentence = data['cleaned_headline'][i]\n",
    "print('Sentence : \"{0}\"\"'.format(Test_sentence))\n",
    "\n",
    "# converting the sentence to sequence\n",
    "Test = tokenizer.texts_to_sequences([Test_sentence])\n",
    "Test = pad_sequences(Test,maxlen=50,padding='post',value =0)\n",
    "\n",
    "# Predicting\n",
    "result = Final_model.predict(Test)[0]\n",
    "\n",
    "if np.argmax(result) == 1:\n",
    "    print(\"Model Prediction : The headline is Sarcastic\")\n",
    "else:\n",
    "    print('Model Prediction : The headline is not Sarcastic')\n",
    "\n",
    "if data['is_sarcastic'][i] == 1:\n",
    "    print(\"Truth Value      : The headline is Sarcastic\")\n",
    "else:\n",
    "    print('Truth Value      : The headline is not Sarcastic')\n",
    "    \n",
    "if np.argmax(result) == data['is_sarcastic'][i]:\n",
    "    print('Correct Prediction !!!')\n",
    "else:\n",
    "    print('Wrong Prediction !!!')\n"
   ]
  },
  {
   "cell_type": "code",
   "execution_count": 34,
   "metadata": {},
   "outputs": [
    {
     "data": {
      "text/plain": [
       "array([[6.1451935e-04, 9.9938548e-01]], dtype=float32)"
      ]
     },
     "execution_count": 34,
     "metadata": {},
     "output_type": "execute_result"
    }
   ],
   "source": [
    "Final_model.predict(Test)"
   ]
  },
  {
   "cell_type": "code",
   "execution_count": 92,
   "metadata": {},
   "outputs": [],
   "source": [
    "from tensorflow.keras.models import save_model"
   ]
  },
  {
   "cell_type": "code",
   "execution_count": 146,
   "metadata": {},
   "outputs": [
    {
     "name": "stdout",
     "output_type": "stream",
     "text": [
      "INFO:tensorflow:Assets written to: model\\assets\n"
     ]
    }
   ],
   "source": [
    "save_model(model,'model')"
   ]
  }
 ],
 "metadata": {
  "kernelspec": {
   "display_name": "Python 3",
   "language": "python",
   "name": "python3"
  },
  "language_info": {
   "codemirror_mode": {
    "name": "ipython",
    "version": 3
   },
   "file_extension": ".py",
   "mimetype": "text/x-python",
   "name": "python",
   "nbconvert_exporter": "python",
   "pygments_lexer": "ipython3",
   "version": "3.8.8"
  }
 },
 "nbformat": 4,
 "nbformat_minor": 4
}
